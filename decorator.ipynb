{
 "cells": [
  {
   "cell_type": "code",
   "execution_count": 1,
   "metadata": {},
   "outputs": [],
   "source": [
    "def new_decorator(funk1):\n",
    "    def wrap_func(*args, **kwargs):\n",
    "        creds = {'Артем': 'qwerty12345', 'Евгений': 'QWERTY'}\n",
    "        c = input('Enter login ')\n",
    "        d = input('Enter password:')\n",
    "        if c == 'Артем' and d == 'qwerty12345' or c == 'Евгений' and d == 'QWERTY' :\n",
    "            print( 'entered correctly')\n",
    "            return funk1(*args, **kwargs)\n",
    "        else:\n",
    "            print('Authentication required')\n",
    "           \n",
    "            \n",
    "    \n",
    "    return wrap_func "
   ]
  },
  {
   "cell_type": "code",
   "execution_count": 2,
   "metadata": {},
   "outputs": [],
   "source": [
    "@new_decorator\n",
    "def some_func(a, b):\n",
    "    return(a + b)"
   ]
  },
  {
   "cell_type": "code",
   "execution_count": 3,
   "metadata": {},
   "outputs": [
    {
     "name": "stdout",
     "output_type": "stream",
     "text": [
      "Enter login Артем\n",
      "Enter password:qwerty12345\n",
      "entered correctly\n"
     ]
    },
    {
     "data": {
      "text/plain": [
       "10"
      ]
     },
     "execution_count": 3,
     "metadata": {},
     "output_type": "execute_result"
    }
   ],
   "source": [
    "some_func(3, 7)"
   ]
  },
  {
   "cell_type": "code",
   "execution_count": null,
   "metadata": {},
   "outputs": [],
   "source": []
  }
 ],
 "metadata": {
  "kernelspec": {
   "display_name": "Python 3",
   "language": "python",
   "name": "python3"
  },
  "language_info": {
   "codemirror_mode": {
    "name": "ipython",
    "version": 3
   },
   "file_extension": ".py",
   "mimetype": "text/x-python",
   "name": "python",
   "nbconvert_exporter": "python",
   "pygments_lexer": "ipython3",
   "version": "3.7.6"
  }
 },
 "nbformat": 4,
 "nbformat_minor": 4
}
