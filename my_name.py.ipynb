{
 "cells": [
  {
   "cell_type": "code",
   "execution_count": 1,
   "metadata": {},
   "outputs": [
    {
     "name": "stdout",
     "output_type": "stream",
     "text": [
      "Не знаю, как там в Лондоне, я не была. Может, там собака — друг человека. А у нас управдом — друг человека!\n"
     ]
    }
   ],
   "source": [
    "a = \"Не знаю, как там в Лондоне, я не была. Может, там собака — друг человека. А у нас управдом — друг человека!\"\n",
    "print(a)"
   ]
  },
  {
   "cell_type": "code",
   "execution_count": 2,
   "metadata": {},
   "outputs": [
    {
     "name": "stdout",
     "output_type": "stream",
     "text": [
      "колличество символов: 107\n"
     ]
    }
   ],
   "source": [
    "#1. Посчитать количество символов\n",
    "print(\"колличество символов:\", len(a))\n"
   ]
  },
  {
   "cell_type": "code",
   "execution_count": 3,
   "metadata": {},
   "outputs": [
    {
     "name": "stdout",
     "output_type": "stream",
     "text": [
      "развернутая строка: !акеволеч гурд — модварпу сан у А .акеволеч гурд — акабос мат ,тежоМ .алыб ен я ,енодноЛ в мат как ,юанз еН\n"
     ]
    }
   ],
   "source": [
    "#2. Развернуть строку\n",
    "print(\"развернутая строка:\", a[::-1])"
   ]
  },
  {
   "cell_type": "code",
   "execution_count": 4,
   "metadata": {},
   "outputs": [
    {
     "name": "stdout",
     "output_type": "stream",
     "text": [
      "каждое слово с большой буквы: Не Знаю, Как Там В Лондоне, Я Не Была. Может, Там Собака — Друг Человека. А У Нас Управдом — Друг Человека!\n"
     ]
    }
   ],
   "source": [
    "#3. Сделать каждое слово с большой буквы\n",
    "print(\"каждое слово с большой буквы:\", a.title())          "
   ]
  },
  {
   "cell_type": "code",
   "execution_count": 5,
   "metadata": {},
   "outputs": [
    {
     "name": "stdout",
     "output_type": "stream",
     "text": [
      "весь текст прописными буквами: НЕ ЗНАЮ, КАК ТАМ В ЛОНДОНЕ, Я НЕ БЫЛА. МОЖЕТ, ТАМ СОБАКА — ДРУГ ЧЕЛОВЕКА. А У НАС УПРАВДОМ — ДРУГ ЧЕЛОВЕКА!\n"
     ]
    }
   ],
   "source": [
    "#4. Сделать весь текст прописными буквами\n",
    "print(\"весь текст прописными буквами:\", a.upper())"
   ]
  },
  {
   "cell_type": "code",
   "execution_count": 6,
   "metadata": {},
   "outputs": [
    {
     "name": "stdout",
     "output_type": "stream",
     "text": [
      "число вхождений \"нд\" в строке: 1\n",
      "число вхождений \"ам\" в строке: 2\n",
      "число вхождений \"о\" в строке: 7\n"
     ]
    }
   ],
   "source": [
    "#5. Найти число вхождений \"нд\", \"ам\", \"о\" в строку\n",
    "print('число вхождений \"нд\" в строке:', a.count(\"нд\"))\n",
    "print('число вхождений \"ам\" в строке:', a.count(\"ам\"))\n",
    "print('число вхождений \"о\" в строке:', a.count(\"о\"))"
   ]
  },
  {
   "cell_type": "code",
   "execution_count": 7,
   "metadata": {},
   "outputs": [],
   "source": [
    "#6. Собственные упражнения\n",
    " #6.a. Использование переменных\n",
    "my_proceeds = 1000\n",
    "tax = 0.16\n",
    "fszn = 95.7\n",
    "my_income = my_proceeds - (my_proceeds * tax ) - fszn  "
   ]
  },
  {
   "cell_type": "code",
   "execution_count": 8,
   "metadata": {},
   "outputs": [
    {
     "data": {
      "text/plain": [
       "744.3"
      ]
     },
     "execution_count": 8,
     "metadata": {},
     "output_type": "execute_result"
    }
   ],
   "source": [
    "my_income\n"
   ]
  },
  {
   "cell_type": "code",
   "execution_count": 9,
   "metadata": {},
   "outputs": [
    {
     "name": "stdout",
     "output_type": "stream",
     "text": [
      "я люблю яблоки виноград груши\n"
     ]
    }
   ],
   "source": [
    "#6. Собственные упражнения\n",
    " #6.b.Форматирование строк\n",
    "my_str = \"я люблю {0} {2} {1}\" .format('яблоки', 'груши', 'виноград' )\n",
    "print(my_str)"
   ]
  },
  {
   "cell_type": "code",
   "execution_count": 10,
   "metadata": {},
   "outputs": [
    {
     "name": "stdout",
     "output_type": "stream",
     "text": [
      "Не знаю, как там в Лондоне, я не была. Может, там собака — друг человека. А у нас управдом — друг человека!\n"
     ]
    }
   ],
   "source": [
    "#6.c.\n",
    "my_str2 = \"Не знаю, как там в Лондоне, я не была. Может, там собака — друг человека. А у нас управдом — друг человека!\"\n",
    "print(my_str2)"
   ]
  },
  {
   "cell_type": "code",
   "execution_count": 11,
   "metadata": {},
   "outputs": [
    {
     "name": "stdout",
     "output_type": "stream",
     "text": [
      "['Не', 'знаю,', 'как', 'там', 'в', 'Лондоне,', 'я', 'не', 'была.', 'Может,', 'там', 'собака', '—', 'друг', 'человека.', 'А', 'у', 'нас', 'управдом', '—', 'друг', 'человека!']\n"
     ]
    }
   ],
   "source": [
    "print(my_str2.split())"
   ]
  },
  {
   "cell_type": "code",
   "execution_count": 12,
   "metadata": {},
   "outputs": [
    {
     "name": "stdout",
     "output_type": "stream",
     "text": [
      "Не знаю, как там в Лондоне\n"
     ]
    }
   ],
   "source": [
    "print(my_str2[0:26])"
   ]
  },
  {
   "cell_type": "code",
   "execution_count": 13,
   "metadata": {},
   "outputs": [
    {
     "name": "stdout",
     "output_type": "stream",
     "text": [
      "в Лондоне дождливо\n"
     ]
    }
   ],
   "source": [
    "print(my_str2[17:26], \"дождливо\")"
   ]
  },
  {
   "cell_type": "code",
   "execution_count": null,
   "metadata": {},
   "outputs": [],
   "source": []
  }
 ],
 "metadata": {
  "kernelspec": {
   "display_name": "Python 3",
   "language": "python",
   "name": "python3"
  },
  "language_info": {
   "codemirror_mode": {
    "name": "ipython",
    "version": 3
   },
   "file_extension": ".py",
   "mimetype": "text/x-python",
   "name": "python",
   "nbconvert_exporter": "python",
   "pygments_lexer": "ipython3",
   "version": "3.7.6"
  }
 },
 "nbformat": 4,
 "nbformat_minor": 4
}
